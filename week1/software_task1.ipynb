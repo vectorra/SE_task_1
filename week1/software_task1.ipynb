{
 "cells": [
  {
   "cell_type": "markdown",
   "id": "bf5050fd",
   "metadata": {},
   "source": []
  },
  {
   "cell_type": "code",
   "execution_count": 45,
   "id": "d793ce62",
   "metadata": {},
   "outputs": [
    {
     "name": "stdout",
     "output_type": "stream",
     "text": [
      "  1           0 LOAD_CONST               0 (5)\n",
      "              2 STORE_NAME               0 (x)\n",
      "\n",
      "  2           4 LOAD_NAME                0 (x)\n",
      "              6 LOAD_NAME                0 (x)\n",
      "              8 BINARY_ADD\n",
      "             10 STORE_NAME               1 (y)\n",
      "\n",
      "  3          12 LOAD_NAME                0 (x)\n",
      "             14 LOAD_NAME                0 (x)\n",
      "             16 BINARY_SUBTRACT\n",
      "             18 STORE_NAME               2 (z)\n",
      "\n",
      "  4          20 LOAD_NAME                3 (print)\n",
      "             22 LOAD_CONST               1 ('Hello World!')\n",
      "             24 CALL_FUNCTION            1\n",
      "             26 POP_TOP\n",
      "             28 LOAD_CONST               2 (None)\n",
      "             30 RETURN_VALUE\n",
      "  1           0 LOAD_CONST               0 (5)\n",
      "              2 STORE_NAME               0 (x)\n",
      "\n",
      "  2           4 LOAD_NAME                0 (x)\n",
      "              6 LOAD_NAME                0 (x)\n",
      "              8 BINARY_SUBTRACT\n",
      "             10 STORE_NAME               1 (y)\n",
      "\n",
      "  3          12 LOAD_NAME                0 (x)\n",
      "             14 LOAD_NAME                0 (x)\n",
      "             16 BINARY_SUBTRACT\n",
      "             18 STORE_NAME               2 (z)\n",
      "\n",
      "  4          20 LOAD_NAME                3 (print)\n",
      "             22 LOAD_CONST               1 ('Hello World!')\n",
      "             24 CALL_FUNCTION            1\n",
      "             26 POP_TOP\n",
      "             28 LOAD_CONST               2 (None)\n",
      "             30 RETURN_VALUE\n"
     ]
    }
   ],
   "source": [
    "from pathlib import Path\n",
    "import dis\n",
    "import marshal\n",
    "import numpy as np\n",
    "import types\n",
    "\n",
    "with open(\"py_file.pyc\", \"r+b\") as f:\n",
    "    content = f.read(16)\n",
    "    code_obj = marshal.load(f)\n",
    "file_inside = dis.dis(code_obj)\n",
    "bytecode = bytearray(code_obj.co_code)\n",
    "bytecode = np.frombuffer(code_obj.co_code, dtype=np.uint8)\n",
    "\n",
    "BINARY_ADD = dis.opmap[\"BINARY_ADD\"]\n",
    "BINARY_SUB = dis.opmap[\"BINARY_SUBTRACT\"]\n",
    "\n",
    "bytecode_new = np.where(bytecode == BINARY_ADD, BINARY_SUB, bytecode).astype(np.uint8)\n",
    "\n",
    "new_code = types.CodeType(\n",
    "    code_obj.co_argcount,\n",
    "    code_obj.co_posonlyargcount if hasattr(code_obj, \"co_posonlyargcount\") else 0,\n",
    "    code_obj.co_kwonlyargcount,\n",
    "    code_obj.co_nlocals,\n",
    "    code_obj.co_stacksize,\n",
    "    code_obj.co_flags,\n",
    "    bytecode_new.tobytes(),  \n",
    "    code_obj.co_consts,\n",
    "    code_obj.co_names,\n",
    "    code_obj.co_varnames,\n",
    "    code_obj.co_filename,\n",
    "    code_obj.co_name,\n",
    "    code_obj.co_firstlineno,\n",
    "    code_obj.co_lnotab,\n",
    "    code_obj.co_freevars,\n",
    "    code_obj.co_cellvars\n",
    ")\n",
    "\n",
    "# Disassemble to see result\n",
    "dis.dis(new_code)"
   ]
  },
  {
   "cell_type": "code",
   "execution_count": null,
   "id": "094c6070",
   "metadata": {},
   "outputs": [],
   "source": [
    "with open(\"py_file.pyc\", \"wb\") as f:\n",
    "    f.write(content)                 \n",
    "    marshal.dump(new_code, f)    \n"
   ]
  },
  {
   "cell_type": "code",
   "execution_count": null,
   "id": "e4fc766b",
   "metadata": {},
   "outputs": [
    {
     "data": {
      "text/plain": [
       "'py_file.pyc'"
      ]
     },
     "execution_count": 1,
     "metadata": {},
     "output_type": "execute_result"
    }
   ],
   "source": [
    "import py_compile\n",
    "py_compile.compile('py_file.py', cfile='py_file.pyc')"
   ]
  },
  {
   "cell_type": "code",
   "execution_count": 49,
   "id": "6bdd7db9",
   "metadata": {},
   "outputs": [
    {
     "name": "stdout",
     "output_type": "stream",
     "text": [
      "  1           0 LOAD_CONST               0 (5)\n",
      "              2 STORE_NAME               0 (x)\n",
      "\n",
      "  2           4 LOAD_NAME                0 (x)\n",
      "              6 LOAD_NAME                0 (x)\n",
      "              8 BINARY_SUBTRACT\n",
      "             10 STORE_NAME               1 (y)\n",
      "\n",
      "  3          12 LOAD_NAME                0 (x)\n",
      "             14 LOAD_NAME                0 (x)\n",
      "             16 BINARY_SUBTRACT\n",
      "             18 STORE_NAME               2 (z)\n",
      "\n",
      "  4          20 LOAD_NAME                3 (print)\n",
      "             22 LOAD_CONST               1 ('Hello World!')\n",
      "             24 CALL_FUNCTION            1\n",
      "             26 POP_TOP\n",
      "             28 LOAD_CONST               2 (None)\n",
      "             30 RETURN_VALUE\n"
     ]
    }
   ],
   "source": [
    "with open(\"py_file.pyc\", \"r+b\") as f:\n",
    "    content = f.read(16)\n",
    "    code_obj_changed = marshal.load(f)\n",
    "dis.dis(code_obj_changed)"
   ]
  },
  {
   "cell_type": "code",
   "execution_count": 50,
   "id": "798cf916",
   "metadata": {},
   "outputs": [],
   "source": [
    "import sys\n",
    "import tracemalloc\n",
    "\n",
    "# Обычный класс без __slots__\n",
    "class User:\n",
    "    def __init__(self, name, surname, age, DOB, email_address, password_hash):\n",
    "        self.name = name\n",
    "        self.surname = surname\n",
    "        self.age = age\n",
    "        self.DOB = DOB\n",
    "        self.email_address = email_address\n",
    "        self.password_hash = password_hash\n",
    "\n",
    "# Класс с __slots__\n",
    "class SlottedUser:\n",
    "    __slots__ = ['name', 'surname', 'age', 'DOB', 'email_address', 'password_hash']\n",
    "    \n",
    "    def __init__(self, name, surname, age, DOB, email_address, password_hash):\n",
    "        self.name = name\n",
    "        self.surname = surname\n",
    "        self.age = age\n",
    "        self.DOB = DOB\n",
    "        self.email_address = email_address\n",
    "        self.password_hash = password_hash\n",
    "\n",
    "def measure_memory(Class, label):\n",
    "    tracemalloc.start()\n",
    "\n",
    "    users = [Class(\"John\", \"Doe\", 30, \"1990-01-01\", \"john@example.com\", \"hash123\") for _ in range(10**6)]\n",
    "\n",
    "    current, peak = tracemalloc.get_traced_memory()\n",
    "    print(f\"{label}:\\n  Current memory usage: {current / 1024 / 1024:.2f} MB\\n  Peak memory usage: {peak / 1024 / 1024:.2f} MB\\n\")\n",
    "\n",
    "    # Clean up\n",
    "    del users\n",
    "    tracemalloc.stop()\n",
    "   "
   ]
  },
  {
   "cell_type": "code",
   "execution_count": 51,
   "id": "1989cf52",
   "metadata": {},
   "outputs": [
    {
     "name": "stdout",
     "output_type": "stream",
     "text": [
      "Without __slots__:\n",
      "  Current memory usage: 191.16 MB\n",
      "  Peak memory usage: 191.16 MB\n",
      "\n",
      "With __slots__:\n",
      "  Current memory usage: 84.36 MB\n",
      "  Peak memory usage: 84.36 MB\n",
      "\n"
     ]
    }
   ],
   "source": [
    "\n",
    "measure_memory(User, \"Without __slots__\")\n",
    "measure_memory(SlottedUser, \"With __slots__\")"
   ]
  },
  {
   "cell_type": "code",
   "execution_count": null,
   "id": "b3d8db2e",
   "metadata": {},
   "outputs": [],
   "source": [
    "import http.client\n",
    "\n",
    "conn = http.client.HTTPSConnection(\"example.com\")\n",
    "conn.request(\"GET\", \"/\")\n",
    "response = conn.getresponse()\n",
    "\n",
    "print(response.status, response.reason)\n",
    "print(response.read().decode())"
   ]
  },
  {
   "cell_type": "code",
   "execution_count": null,
   "id": "5a5b2cb7",
   "metadata": {},
   "outputs": [
    {
     "name": "stdout",
     "output_type": "stream",
     "text": [
      "['x = 5', 'y = x+x', 'z = x-x', 'print(\"Hello World!\")']\n",
      "x = 5\n",
      "y = x+x\n",
      "z = x-x\n",
      "print(\"Hello World!\")\n",
      "\n"
     ]
    }
   ],
   "source": [
    "import requests\n",
    "import re\n",
    "import json\n",
    "import pandas as pd\n",
    "\n",
    "url = \"https://github.com/vectorra/SE_task_1/blob/main/week1/py_file.py\"\n",
    "response = requests.get(url)\n",
    "\n",
    "html = response.text\n",
    "\n",
    "\n",
    "match = re.search(r'<script type=\"application/json\" data-target=\"react-app.embeddedData\">(.+?)</script>', response.text, re.DOTALL)\n",
    "if match:\n",
    "    script_content = match.group(1)\n",
    "    data = json.loads(script_content)\n",
    "    df = pd.DataFrame(data)\n",
    "    raw_lines = data[\"payload\"][\"blob\"][\"rawLines\"]\n",
    "    print(raw_lines)\n",
    "\n",
    "code = \"\"\n",
    "\n",
    "for i in raw_lines:\n",
    "    code += i + '\\n'\n",
    "print(code) \n",
    "\n",
    "with open(\"output.py\", \"w\", encoding=\"utf-8\") as f:\n",
    "    f.write(code)\n"
   ]
  },
  {
   "cell_type": "code",
   "execution_count": 34,
   "id": "a2ab5b60",
   "metadata": {},
   "outputs": [
    {
     "name": "stdout",
     "output_type": "stream",
     "text": [
      "Hello World!\n"
     ]
    }
   ],
   "source": [
    "exec(open(\"output.py\").read())"
   ]
  },
  {
   "cell_type": "code",
   "execution_count": 7,
   "id": "9b0f8f26",
   "metadata": {},
   "outputs": [
    {
     "name": "stdout",
     "output_type": "stream",
     "text": [
      "Collecting pandas\n",
      "  Using cached pandas-2.3.1-cp39-cp39-macosx_11_0_arm64.whl.metadata (91 kB)\n",
      "Collecting numpy>=1.22.4 (from pandas)\n",
      "  Downloading numpy-2.0.2-cp39-cp39-macosx_14_0_arm64.whl.metadata (60 kB)\n",
      "Requirement already satisfied: python-dateutil>=2.8.2 in /Users/nvardanyan/Documents/.venv/lib/python3.9/site-packages (from pandas) (2.9.0.post0)\n",
      "Collecting pytz>=2020.1 (from pandas)\n",
      "  Using cached pytz-2025.2-py2.py3-none-any.whl.metadata (22 kB)\n",
      "Collecting tzdata>=2022.7 (from pandas)\n",
      "  Using cached tzdata-2025.2-py2.py3-none-any.whl.metadata (1.4 kB)\n",
      "Requirement already satisfied: six>=1.5 in /Users/nvardanyan/Documents/.venv/lib/python3.9/site-packages (from python-dateutil>=2.8.2->pandas) (1.17.0)\n",
      "Using cached pandas-2.3.1-cp39-cp39-macosx_11_0_arm64.whl (10.8 MB)\n",
      "Downloading numpy-2.0.2-cp39-cp39-macosx_14_0_arm64.whl (5.3 MB)\n",
      "\u001b[2K   \u001b[90m━━━━━━━━━━━━━━━━━━━━━━━━━━━━━━━━━━━━━━━━\u001b[0m \u001b[32m5.3/5.3 MB\u001b[0m \u001b[31m2.2 MB/s\u001b[0m eta \u001b[36m0:00:00\u001b[0m00:01\u001b[0m00:01\u001b[0m\n",
      "\u001b[?25hUsing cached pytz-2025.2-py2.py3-none-any.whl (509 kB)\n",
      "Using cached tzdata-2025.2-py2.py3-none-any.whl (347 kB)\n",
      "Installing collected packages: pytz, tzdata, numpy, pandas\n",
      "\u001b[2K   \u001b[90m━━━━━━━━━━━━━━━━━━━━━━━━━━━━━━━━━━━━━━━━\u001b[0m \u001b[32m4/4\u001b[0m [pandas]2m3/4\u001b[0m [pandas]\n",
      "\u001b[1A\u001b[2KSuccessfully installed numpy-2.0.2 pandas-2.3.1 pytz-2025.2 tzdata-2025.2\n",
      "Note: you may need to restart the kernel to use updated packages.\n"
     ]
    }
   ],
   "source": [
    "pip install pandas"
   ]
  },
  {
   "cell_type": "code",
   "execution_count": 36,
   "id": "552dce7f",
   "metadata": {},
   "outputs": [
    {
     "name": "stdout",
     "output_type": "stream",
     "text": [
      "Moved and renamed: ../week1/task1.py → ../week1/task1/task1_main.py\n",
      "Moved and renamed: ../week1/software_task1.ipynb → ../week1/task1/task1_notebook.ipynb\n",
      "Moved and renamed: ../week1/py_file.py → ../week1/task1/task1_raw.py\n",
      "Moved and renamed: ../week1/py_file.pyc → ../week1/task1/task1_raw.pyc\n",
      "Moved and renamed: ../week1/patched_file.pyc → ../week1/task1/task1_patched.pyc\n",
      "Skipped (not found): ../week1/output.py\n",
      "Skipped (not found): ../week1/output.txt\n"
     ]
    },
    {
     "ename": "FileNotFoundError",
     "evalue": "[Errno 2] No such file or directory: '../week2/task1/task1_week2.py'",
     "output_type": "error",
     "traceback": [
      "\u001b[0;31m---------------------------------------------------------------------------\u001b[0m",
      "\u001b[0;31mFileNotFoundError\u001b[0m                         Traceback (most recent call last)",
      "File \u001b[0;32m/Library/Developer/CommandLineTools/Library/Frameworks/Python3.framework/Versions/3.9/lib/python3.9/shutil.py:806\u001b[0m, in \u001b[0;36mmove\u001b[0;34m(src, dst, copy_function)\u001b[0m\n\u001b[1;32m    805\u001b[0m \u001b[38;5;28;01mtry\u001b[39;00m:\n\u001b[0;32m--> 806\u001b[0m     \u001b[43mos\u001b[49m\u001b[38;5;241;43m.\u001b[39;49m\u001b[43mrename\u001b[49m\u001b[43m(\u001b[49m\u001b[43msrc\u001b[49m\u001b[43m,\u001b[49m\u001b[43m \u001b[49m\u001b[43mreal_dst\u001b[49m\u001b[43m)\u001b[49m\n\u001b[1;32m    807\u001b[0m \u001b[38;5;28;01mexcept\u001b[39;00m \u001b[38;5;167;01mOSError\u001b[39;00m:\n",
      "\u001b[0;31mFileNotFoundError\u001b[0m: [Errno 2] No such file or directory: '../week2/Task1_week2.py' -> '../week2/task1/task1_week2.py'",
      "\nDuring handling of the above exception, another exception occurred:\n",
      "\u001b[0;31mFileNotFoundError\u001b[0m                         Traceback (most recent call last)",
      "Cell \u001b[0;32mIn[36], line 32\u001b[0m\n\u001b[1;32m     29\u001b[0m             \u001b[38;5;28mprint\u001b[39m(\u001b[38;5;124mf\u001b[39m\u001b[38;5;124m\"\u001b[39m\u001b[38;5;124mSkipped (not found): \u001b[39m\u001b[38;5;132;01m{\u001b[39;00msrc\u001b[38;5;132;01m}\u001b[39;00m\u001b[38;5;124m\"\u001b[39m)\n\u001b[1;32m     31\u001b[0m organize_files(\u001b[38;5;124m\"\u001b[39m\u001b[38;5;124m../week1\u001b[39m\u001b[38;5;124m\"\u001b[39m, week1_renames, \u001b[38;5;124m\"\u001b[39m\u001b[38;5;124mtask1\u001b[39m\u001b[38;5;124m\"\u001b[39m)\n\u001b[0;32m---> 32\u001b[0m \u001b[43morganize_files\u001b[49m\u001b[43m(\u001b[49m\u001b[38;5;124;43m\"\u001b[39;49m\u001b[38;5;124;43m../week2\u001b[39;49m\u001b[38;5;124;43m\"\u001b[39;49m\u001b[43m,\u001b[49m\u001b[43m \u001b[49m\u001b[43m{\u001b[49m\u001b[43mk\u001b[49m\u001b[43m:\u001b[49m\u001b[43m \u001b[49m\u001b[43mv\u001b[49m\u001b[43m \u001b[49m\u001b[38;5;28;43;01mfor\u001b[39;49;00m\u001b[43m \u001b[49m\u001b[43mk\u001b[49m\u001b[43m,\u001b[49m\u001b[43m \u001b[49m\u001b[43mv\u001b[49m\u001b[43m \u001b[49m\u001b[38;5;129;43;01min\u001b[39;49;00m\u001b[43m \u001b[49m\u001b[43mweek2_renames\u001b[49m\u001b[38;5;241;43m.\u001b[39;49m\u001b[43mitems\u001b[49m\u001b[43m(\u001b[49m\u001b[43m)\u001b[49m\u001b[43m \u001b[49m\u001b[38;5;28;43;01mif\u001b[39;49;00m\u001b[43m \u001b[49m\u001b[38;5;124;43m\"\u001b[39;49m\u001b[38;5;124;43mtask1\u001b[39;49m\u001b[38;5;124;43m\"\u001b[39;49m\u001b[43m \u001b[49m\u001b[38;5;129;43;01min\u001b[39;49;00m\u001b[43m \u001b[49m\u001b[43mv\u001b[49m\u001b[43m}\u001b[49m\u001b[43m,\u001b[49m\u001b[43m \u001b[49m\u001b[38;5;124;43m\"\u001b[39;49m\u001b[38;5;124;43mtask1\u001b[39;49m\u001b[38;5;124;43m\"\u001b[39;49m\u001b[43m)\u001b[49m\n\u001b[1;32m     33\u001b[0m organize_files(\u001b[38;5;124m\"\u001b[39m\u001b[38;5;124m../week2\u001b[39m\u001b[38;5;124m\"\u001b[39m, {k: v \u001b[38;5;28;01mfor\u001b[39;00m k, v \u001b[38;5;129;01min\u001b[39;00m week2_renames\u001b[38;5;241m.\u001b[39mitems() \u001b[38;5;28;01mif\u001b[39;00m \u001b[38;5;124m\"\u001b[39m\u001b[38;5;124mtask2\u001b[39m\u001b[38;5;124m\"\u001b[39m \u001b[38;5;129;01min\u001b[39;00m v}, \u001b[38;5;124m\"\u001b[39m\u001b[38;5;124mtask2\u001b[39m\u001b[38;5;124m\"\u001b[39m)\n",
      "Cell \u001b[0;32mIn[36], line 26\u001b[0m, in \u001b[0;36morganize_files\u001b[0;34m(base_dir, rename_map, target_subfolder)\u001b[0m\n\u001b[1;32m     24\u001b[0m dst \u001b[38;5;241m=\u001b[39m os\u001b[38;5;241m.\u001b[39mpath\u001b[38;5;241m.\u001b[39mjoin(base_dir, target_subfolder, new_name)\n\u001b[1;32m     25\u001b[0m \u001b[38;5;28;01mif\u001b[39;00m os\u001b[38;5;241m.\u001b[39mpath\u001b[38;5;241m.\u001b[39mexists(src):\n\u001b[0;32m---> 26\u001b[0m     \u001b[43mshutil\u001b[49m\u001b[38;5;241;43m.\u001b[39;49m\u001b[43mmove\u001b[49m\u001b[43m(\u001b[49m\u001b[43msrc\u001b[49m\u001b[43m,\u001b[49m\u001b[43m \u001b[49m\u001b[43mdst\u001b[49m\u001b[43m)\u001b[49m\n\u001b[1;32m     27\u001b[0m     \u001b[38;5;28mprint\u001b[39m(\u001b[38;5;124mf\u001b[39m\u001b[38;5;124m\"\u001b[39m\u001b[38;5;124mMoved and renamed: \u001b[39m\u001b[38;5;132;01m{\u001b[39;00msrc\u001b[38;5;132;01m}\u001b[39;00m\u001b[38;5;124m → \u001b[39m\u001b[38;5;132;01m{\u001b[39;00mdst\u001b[38;5;132;01m}\u001b[39;00m\u001b[38;5;124m\"\u001b[39m)\n\u001b[1;32m     28\u001b[0m \u001b[38;5;28;01melse\u001b[39;00m:\n",
      "File \u001b[0;32m/Library/Developer/CommandLineTools/Library/Frameworks/Python3.framework/Versions/3.9/lib/python3.9/shutil.py:826\u001b[0m, in \u001b[0;36mmove\u001b[0;34m(src, dst, copy_function)\u001b[0m\n\u001b[1;32m    824\u001b[0m         rmtree(src)\n\u001b[1;32m    825\u001b[0m     \u001b[38;5;28;01melse\u001b[39;00m:\n\u001b[0;32m--> 826\u001b[0m         \u001b[43mcopy_function\u001b[49m\u001b[43m(\u001b[49m\u001b[43msrc\u001b[49m\u001b[43m,\u001b[49m\u001b[43m \u001b[49m\u001b[43mreal_dst\u001b[49m\u001b[43m)\u001b[49m\n\u001b[1;32m    827\u001b[0m         os\u001b[38;5;241m.\u001b[39munlink(src)\n\u001b[1;32m    828\u001b[0m \u001b[38;5;28;01mreturn\u001b[39;00m real_dst\n",
      "File \u001b[0;32m/Library/Developer/CommandLineTools/Library/Frameworks/Python3.framework/Versions/3.9/lib/python3.9/shutil.py:435\u001b[0m, in \u001b[0;36mcopy2\u001b[0;34m(src, dst, follow_symlinks)\u001b[0m\n\u001b[1;32m    433\u001b[0m \u001b[38;5;28;01mif\u001b[39;00m os\u001b[38;5;241m.\u001b[39mpath\u001b[38;5;241m.\u001b[39misdir(dst):\n\u001b[1;32m    434\u001b[0m     dst \u001b[38;5;241m=\u001b[39m os\u001b[38;5;241m.\u001b[39mpath\u001b[38;5;241m.\u001b[39mjoin(dst, os\u001b[38;5;241m.\u001b[39mpath\u001b[38;5;241m.\u001b[39mbasename(src))\n\u001b[0;32m--> 435\u001b[0m \u001b[43mcopyfile\u001b[49m\u001b[43m(\u001b[49m\u001b[43msrc\u001b[49m\u001b[43m,\u001b[49m\u001b[43m \u001b[49m\u001b[43mdst\u001b[49m\u001b[43m,\u001b[49m\u001b[43m \u001b[49m\u001b[43mfollow_symlinks\u001b[49m\u001b[38;5;241;43m=\u001b[39;49m\u001b[43mfollow_symlinks\u001b[49m\u001b[43m)\u001b[49m\n\u001b[1;32m    436\u001b[0m copystat(src, dst, follow_symlinks\u001b[38;5;241m=\u001b[39mfollow_symlinks)\n\u001b[1;32m    437\u001b[0m \u001b[38;5;28;01mreturn\u001b[39;00m dst\n",
      "File \u001b[0;32m/Library/Developer/CommandLineTools/Library/Frameworks/Python3.framework/Versions/3.9/lib/python3.9/shutil.py:264\u001b[0m, in \u001b[0;36mcopyfile\u001b[0;34m(src, dst, follow_symlinks)\u001b[0m\n\u001b[1;32m    262\u001b[0m     os\u001b[38;5;241m.\u001b[39msymlink(os\u001b[38;5;241m.\u001b[39mreadlink(src), dst)\n\u001b[1;32m    263\u001b[0m \u001b[38;5;28;01melse\u001b[39;00m:\n\u001b[0;32m--> 264\u001b[0m     \u001b[38;5;28;01mwith\u001b[39;00m \u001b[38;5;28mopen\u001b[39m(src, \u001b[38;5;124m'\u001b[39m\u001b[38;5;124mrb\u001b[39m\u001b[38;5;124m'\u001b[39m) \u001b[38;5;28;01mas\u001b[39;00m fsrc, \u001b[38;5;28;43mopen\u001b[39;49m\u001b[43m(\u001b[49m\u001b[43mdst\u001b[49m\u001b[43m,\u001b[49m\u001b[43m \u001b[49m\u001b[38;5;124;43m'\u001b[39;49m\u001b[38;5;124;43mwb\u001b[39;49m\u001b[38;5;124;43m'\u001b[39;49m\u001b[43m)\u001b[49m \u001b[38;5;28;01mas\u001b[39;00m fdst:\n\u001b[1;32m    265\u001b[0m         \u001b[38;5;66;03m# macOS\u001b[39;00m\n\u001b[1;32m    266\u001b[0m         \u001b[38;5;28;01mif\u001b[39;00m _HAS_FCOPYFILE:\n\u001b[1;32m    267\u001b[0m             \u001b[38;5;28;01mtry\u001b[39;00m:\n",
      "\u001b[0;31mFileNotFoundError\u001b[0m: [Errno 2] No such file or directory: '../week2/task1/task1_week2.py'"
     ]
    }
   ],
   "source": [
    "import os\n",
    "import shutil\n",
    "\n",
    "week1_renames = {\n",
    "    \"task1.py\": \"task1_main.py\",\n",
    "    \"software_task1.ipynb\": \"task1_notebook.ipynb\",\n",
    "    \"py_file.py\": \"task1_raw.py\",\n",
    "    \"py_file.pyc\": \"task1_raw.pyc\",\n",
    "    \"patched_file.pyc\": \"task1_patched.pyc\",\n",
    "    \"output.py\": \"task1_output.py\",\n",
    "    \"output.txt\": \"task1_output.txt\",\n",
    "}\n",
    "\n",
    "week2_renames = {\n",
    "    \"Task1_week2.py\": \"task1_week2.py\",\n",
    "    \"ReadMeTask1.txt\": \"task1_readme.txt\",\n",
    "    \"task2.py\": \"task2_main.py\"\n",
    "}\n",
    "\n",
    "def organize_files(base_dir, rename_map, target_subfolder):\n",
    "    os.makedirs(target_subfolder, exist_ok=True)\n",
    "    for old_name, new_name in rename_map.items():\n",
    "        src = os.path.join(base_dir, old_name)\n",
    "        dst = os.path.join(base_dir, target_subfolder, new_name)\n",
    "        if os.path.exists(src):\n",
    "            shutil.move(src, dst)\n",
    "            print(f\"Moved and renamed: {src} → {dst}\")\n",
    "        else:\n",
    "            print(f\"Skipped (not found): {src}\")\n",
    "\n",
    "organize_files(\"../week1\", week1_renames, \"task1\")\n",
    "organize_files(\"../week2\", {k: v for k, v in week2_renames.items() if \"task1\" in v}, \"task1\")\n",
    "organize_files(\"../week2\", {k: v for k, v in week2_renames.items() if \"task2\" in v}, \"task2\")\n"
   ]
  },
  {
   "cell_type": "code",
   "execution_count": null,
   "id": "c83d8789",
   "metadata": {},
   "outputs": [],
   "source": []
  }
 ],
 "metadata": {
  "kernelspec": {
   "display_name": ".venv",
   "language": "python",
   "name": "python3"
  },
  "language_info": {
   "codemirror_mode": {
    "name": "ipython",
    "version": 3
   },
   "file_extension": ".py",
   "mimetype": "text/x-python",
   "name": "python",
   "nbconvert_exporter": "python",
   "pygments_lexer": "ipython3",
   "version": "3.9.6"
  }
 },
 "nbformat": 4,
 "nbformat_minor": 5
}
