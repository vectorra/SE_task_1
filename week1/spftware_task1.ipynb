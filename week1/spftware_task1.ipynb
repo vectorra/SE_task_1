{
 "cells": [
  {
   "cell_type": "markdown",
   "id": "bf5050fd",
   "metadata": {},
   "source": []
  },
  {
   "cell_type": "code",
   "execution_count": 45,
   "id": "d793ce62",
   "metadata": {},
   "outputs": [
    {
     "name": "stdout",
     "output_type": "stream",
     "text": [
      "  1           0 LOAD_CONST               0 (5)\n",
      "              2 STORE_NAME               0 (x)\n",
      "\n",
      "  2           4 LOAD_NAME                0 (x)\n",
      "              6 LOAD_NAME                0 (x)\n",
      "              8 BINARY_ADD\n",
      "             10 STORE_NAME               1 (y)\n",
      "\n",
      "  3          12 LOAD_NAME                0 (x)\n",
      "             14 LOAD_NAME                0 (x)\n",
      "             16 BINARY_SUBTRACT\n",
      "             18 STORE_NAME               2 (z)\n",
      "\n",
      "  4          20 LOAD_NAME                3 (print)\n",
      "             22 LOAD_CONST               1 ('Hello World!')\n",
      "             24 CALL_FUNCTION            1\n",
      "             26 POP_TOP\n",
      "             28 LOAD_CONST               2 (None)\n",
      "             30 RETURN_VALUE\n",
      "  1           0 LOAD_CONST               0 (5)\n",
      "              2 STORE_NAME               0 (x)\n",
      "\n",
      "  2           4 LOAD_NAME                0 (x)\n",
      "              6 LOAD_NAME                0 (x)\n",
      "              8 BINARY_SUBTRACT\n",
      "             10 STORE_NAME               1 (y)\n",
      "\n",
      "  3          12 LOAD_NAME                0 (x)\n",
      "             14 LOAD_NAME                0 (x)\n",
      "             16 BINARY_SUBTRACT\n",
      "             18 STORE_NAME               2 (z)\n",
      "\n",
      "  4          20 LOAD_NAME                3 (print)\n",
      "             22 LOAD_CONST               1 ('Hello World!')\n",
      "             24 CALL_FUNCTION            1\n",
      "             26 POP_TOP\n",
      "             28 LOAD_CONST               2 (None)\n",
      "             30 RETURN_VALUE\n"
     ]
    }
   ],
   "source": [
    "from pathlib import Path\n",
    "import dis\n",
    "import marshal\n",
    "import numpy as np\n",
    "import types\n",
    "\n",
    "with open(\"py_file.pyc\", \"r+b\") as f:\n",
    "    content = f.read(16)\n",
    "    code_obj = marshal.load(f)\n",
    "file_inside = dis.dis(code_obj)\n",
    "bytecode = bytearray(code_obj.co_code)\n",
    "bytecode = np.frombuffer(code_obj.co_code, dtype=np.uint8)\n",
    "\n",
    "BINARY_ADD = dis.opmap[\"BINARY_ADD\"]\n",
    "BINARY_SUB = dis.opmap[\"BINARY_SUBTRACT\"]\n",
    "\n",
    "bytecode_new = np.where(bytecode == BINARY_ADD, BINARY_SUB, bytecode).astype(np.uint8)\n",
    "\n",
    "new_code = types.CodeType(\n",
    "    code_obj.co_argcount,\n",
    "    code_obj.co_posonlyargcount if hasattr(code_obj, \"co_posonlyargcount\") else 0,\n",
    "    code_obj.co_kwonlyargcount,\n",
    "    code_obj.co_nlocals,\n",
    "    code_obj.co_stacksize,\n",
    "    code_obj.co_flags,\n",
    "    bytecode_new.tobytes(),  \n",
    "    code_obj.co_consts,\n",
    "    code_obj.co_names,\n",
    "    code_obj.co_varnames,\n",
    "    code_obj.co_filename,\n",
    "    code_obj.co_name,\n",
    "    code_obj.co_firstlineno,\n",
    "    code_obj.co_lnotab,\n",
    "    code_obj.co_freevars,\n",
    "    code_obj.co_cellvars\n",
    ")\n",
    "\n",
    "# Disassemble to see result\n",
    "dis.dis(new_code)"
   ]
  },
  {
   "cell_type": "code",
   "execution_count": 48,
   "id": "094c6070",
   "metadata": {},
   "outputs": [],
   "source": [
    "with open(\"py_file.pyc\", \"wb\") as f:\n",
    "    f.write(content)                   # Keep original header\n",
    "    marshal.dump(new_code, f)    # Write new code object\n"
   ]
  },
  {
   "cell_type": "code",
   "execution_count": null,
   "id": "e4fc766b",
   "metadata": {},
   "outputs": [
    {
     "data": {
      "text/plain": [
       "'py_file.pyc'"
      ]
     },
     "execution_count": 1,
     "metadata": {},
     "output_type": "execute_result"
    }
   ],
   "source": [
    "import py_compile\n",
    "py_compile.compile('py_file.py', cfile='py_file.pyc')"
   ]
  },
  {
   "cell_type": "code",
   "execution_count": 49,
   "id": "6bdd7db9",
   "metadata": {},
   "outputs": [
    {
     "name": "stdout",
     "output_type": "stream",
     "text": [
      "  1           0 LOAD_CONST               0 (5)\n",
      "              2 STORE_NAME               0 (x)\n",
      "\n",
      "  2           4 LOAD_NAME                0 (x)\n",
      "              6 LOAD_NAME                0 (x)\n",
      "              8 BINARY_SUBTRACT\n",
      "             10 STORE_NAME               1 (y)\n",
      "\n",
      "  3          12 LOAD_NAME                0 (x)\n",
      "             14 LOAD_NAME                0 (x)\n",
      "             16 BINARY_SUBTRACT\n",
      "             18 STORE_NAME               2 (z)\n",
      "\n",
      "  4          20 LOAD_NAME                3 (print)\n",
      "             22 LOAD_CONST               1 ('Hello World!')\n",
      "             24 CALL_FUNCTION            1\n",
      "             26 POP_TOP\n",
      "             28 LOAD_CONST               2 (None)\n",
      "             30 RETURN_VALUE\n"
     ]
    }
   ],
   "source": [
    "with open(\"py_file.pyc\", \"r+b\") as f:\n",
    "    content = f.read(16)\n",
    "    code_obj_changed = marshal.load(f)\n",
    "dis.dis(code_obj_changed)"
   ]
  },
  {
   "cell_type": "code",
   "execution_count": 50,
   "id": "798cf916",
   "metadata": {},
   "outputs": [],
   "source": [
    "import sys\n",
    "import tracemalloc\n",
    "\n",
    "# Обычный класс без __slots__\n",
    "class User:\n",
    "    def __init__(self, name, surname, age, DOB, email_address, password_hash):\n",
    "        self.name = name\n",
    "        self.surname = surname\n",
    "        self.age = age\n",
    "        self.DOB = DOB\n",
    "        self.email_address = email_address\n",
    "        self.password_hash = password_hash\n",
    "\n",
    "# Класс с __slots__\n",
    "class SlottedUser:\n",
    "    __slots__ = ['name', 'surname', 'age', 'DOB', 'email_address', 'password_hash']\n",
    "    \n",
    "    def __init__(self, name, surname, age, DOB, email_address, password_hash):\n",
    "        self.name = name\n",
    "        self.surname = surname\n",
    "        self.age = age\n",
    "        self.DOB = DOB\n",
    "        self.email_address = email_address\n",
    "        self.password_hash = password_hash\n",
    "\n",
    "def measure_memory(Class, label):\n",
    "    tracemalloc.start()\n",
    "\n",
    "    users = [Class(\"John\", \"Doe\", 30, \"1990-01-01\", \"john@example.com\", \"hash123\") for _ in range(10**6)]\n",
    "\n",
    "    current, peak = tracemalloc.get_traced_memory()\n",
    "    print(f\"{label}:\\n  Current memory usage: {current / 1024 / 1024:.2f} MB\\n  Peak memory usage: {peak / 1024 / 1024:.2f} MB\\n\")\n",
    "\n",
    "    # Clean up\n",
    "    del users\n",
    "    tracemalloc.stop()\n",
    "   "
   ]
  },
  {
   "cell_type": "code",
   "execution_count": 51,
   "id": "1989cf52",
   "metadata": {},
   "outputs": [
    {
     "name": "stdout",
     "output_type": "stream",
     "text": [
      "Without __slots__:\n",
      "  Current memory usage: 191.16 MB\n",
      "  Peak memory usage: 191.16 MB\n",
      "\n",
      "With __slots__:\n",
      "  Current memory usage: 84.36 MB\n",
      "  Peak memory usage: 84.36 MB\n",
      "\n"
     ]
    }
   ],
   "source": [
    "\n",
    "measure_memory(User, \"Without __slots__\")\n",
    "measure_memory(SlottedUser, \"With __slots__\")"
   ]
  }
 ],
 "metadata": {
  "kernelspec": {
   "display_name": "venv",
   "language": "python",
   "name": "python3"
  },
  "language_info": {
   "codemirror_mode": {
    "name": "ipython",
    "version": 3
   },
   "file_extension": ".py",
   "mimetype": "text/x-python",
   "name": "python",
   "nbconvert_exporter": "python",
   "pygments_lexer": "ipython3",
   "version": "3.9.6"
  }
 },
 "nbformat": 4,
 "nbformat_minor": 5
}
